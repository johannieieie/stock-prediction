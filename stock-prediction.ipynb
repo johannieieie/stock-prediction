{
 "cells": [
  {
   "cell_type": "code",
   "execution_count": 726,
   "id": "6a2b1b0f-bbd6-46eb-b179-125466f4efd8",
   "metadata": {},
   "outputs": [],
   "source": [
    "import numpy as np\n",
    "import pandas as pd\n",
    "import matplotlib.pyplot as plt\n",
    "import pandas_datareader as pdr\n",
    "import seaborn as sns\n",
    "import talib \n",
    "from sklearn.preprocessing import MinMaxScaler\n",
    "from sklearn import tree\n",
    "from sklearn.linear_model import LinearRegression\n",
    "from sklearn.feature_selection import RFE\n",
    "from mlxtend.feature_selection import SequentialFeatureSelector as SFS\n",
    "\n"
   ]
  },
  {
   "cell_type": "code",
   "execution_count": 727,
   "metadata": {},
   "outputs": [],
   "source": [
    "startdate = '2016-01-1'\n",
    "enddate= '2021-12-31'\n",
    "scaler = MinMaxScaler()"
   ]
  },
  {
   "cell_type": "code",
   "execution_count": 728,
   "id": "dcaed81f-a4c3-4908-808b-b4647707d732",
   "metadata": {},
   "outputs": [],
   "source": [
    "dji = pdr.get_data_yahoo('^DJI', start=startdate, end=enddate)\n",
    "dji_norm = pd.DataFrame(scaler.fit_transform(dji), columns=dji.columns)\n",
    "n225 = pdr.get_data_yahoo(\"^N225\", start=startdate, end=enddate)\n",
    "n225_norm = pd.DataFrame(scaler.fit_transform(n225), columns=n225.columns)\n",
    "hsi = pdr.get_data_yahoo(\"^HSI\", start=startdate, end=enddate)\n",
    "hsi_norm = pd.DataFrame(scaler.fit_transform(hsi), columns=hsi.columns)\n",
    "sse = pdr.get_data_yahoo(\"000001.SS\", start=startdate, end=enddate)\n",
    "sse_norm = pd.DataFrame(scaler.fit_transform(sse), columns=sse.columns)\n"
   ]
  },
  {
   "source": [
    "<h1>Dow Jones Industrial Average</h1>"
   ],
   "cell_type": "markdown",
   "metadata": {}
  },
  {
   "source": [
    "<h2>Feature Selection</h2>"
   ],
   "cell_type": "markdown",
   "metadata": {}
  },
  {
   "cell_type": "code",
   "execution_count": 729,
   "metadata": {
    "tags": []
   },
   "outputs": [
    {
     "output_type": "execute_result",
     "data": {
      "text/plain": [
       "                    High           Low          Open         Close     Volume  \\\n",
       "Date                                                                            \n",
       "2015-12-31  17590.660156  17421.160156  17590.660156  17425.029297   93690000   \n",
       "2016-01-04  17405.480469  16957.630859  17405.480469  17148.939453  148060000   \n",
       "2016-01-05  17195.839844  17038.609375  17147.500000  17158.660156  105750000   \n",
       "2016-01-06  17154.830078  16817.619141  17154.830078  16906.509766  120250000   \n",
       "2016-01-07  16888.359375  16463.630859  16888.359375  16514.099609  176240000   \n",
       "...                  ...           ...           ...           ...        ...   \n",
       "2021-11-16  36316.609375  36076.179688  36076.179688  36142.218750  308290000   \n",
       "2021-11-17  36159.699219  35909.480469  36159.699219  35931.050781  358310000   \n",
       "2021-11-18  35952.628906  35654.390625  35901.691406  35870.949219  435080000   \n",
       "2021-11-19  35879.089844  35555.371094  35879.089844  35601.980469  408840000   \n",
       "2021-11-22  35929.660156  35615.550781  35631.410156  35619.250000  420810000   \n",
       "\n",
       "               Adj Close  Future Close  \n",
       "Date                                    \n",
       "2015-12-31  17425.029297  17148.939453  \n",
       "2016-01-04  17148.939453  17158.660156  \n",
       "2016-01-05  17158.660156  16906.509766  \n",
       "2016-01-06  16906.509766  16514.099609  \n",
       "2016-01-07  16514.099609  16346.450195  \n",
       "...                  ...           ...  \n",
       "2021-11-16  36142.218750  35931.050781  \n",
       "2021-11-17  35931.050781  35870.949219  \n",
       "2021-11-18  35870.949219  35601.980469  \n",
       "2021-11-19  35601.980469  35619.250000  \n",
       "2021-11-22  35619.250000           NaN  \n",
       "\n",
       "[1485 rows x 7 columns]"
      ],
      "text/html": "<div>\n<style scoped>\n    .dataframe tbody tr th:only-of-type {\n        vertical-align: middle;\n    }\n\n    .dataframe tbody tr th {\n        vertical-align: top;\n    }\n\n    .dataframe thead th {\n        text-align: right;\n    }\n</style>\n<table border=\"1\" class=\"dataframe\">\n  <thead>\n    <tr style=\"text-align: right;\">\n      <th></th>\n      <th>High</th>\n      <th>Low</th>\n      <th>Open</th>\n      <th>Close</th>\n      <th>Volume</th>\n      <th>Adj Close</th>\n      <th>Future Close</th>\n    </tr>\n    <tr>\n      <th>Date</th>\n      <th></th>\n      <th></th>\n      <th></th>\n      <th></th>\n      <th></th>\n      <th></th>\n      <th></th>\n    </tr>\n  </thead>\n  <tbody>\n    <tr>\n      <th>2015-12-31</th>\n      <td>17590.660156</td>\n      <td>17421.160156</td>\n      <td>17590.660156</td>\n      <td>17425.029297</td>\n      <td>93690000</td>\n      <td>17425.029297</td>\n      <td>17148.939453</td>\n    </tr>\n    <tr>\n      <th>2016-01-04</th>\n      <td>17405.480469</td>\n      <td>16957.630859</td>\n      <td>17405.480469</td>\n      <td>17148.939453</td>\n      <td>148060000</td>\n      <td>17148.939453</td>\n      <td>17158.660156</td>\n    </tr>\n    <tr>\n      <th>2016-01-05</th>\n      <td>17195.839844</td>\n      <td>17038.609375</td>\n      <td>17147.500000</td>\n      <td>17158.660156</td>\n      <td>105750000</td>\n      <td>17158.660156</td>\n      <td>16906.509766</td>\n    </tr>\n    <tr>\n      <th>2016-01-06</th>\n      <td>17154.830078</td>\n      <td>16817.619141</td>\n      <td>17154.830078</td>\n      <td>16906.509766</td>\n      <td>120250000</td>\n      <td>16906.509766</td>\n      <td>16514.099609</td>\n    </tr>\n    <tr>\n      <th>2016-01-07</th>\n      <td>16888.359375</td>\n      <td>16463.630859</td>\n      <td>16888.359375</td>\n      <td>16514.099609</td>\n      <td>176240000</td>\n      <td>16514.099609</td>\n      <td>16346.450195</td>\n    </tr>\n    <tr>\n      <th>...</th>\n      <td>...</td>\n      <td>...</td>\n      <td>...</td>\n      <td>...</td>\n      <td>...</td>\n      <td>...</td>\n      <td>...</td>\n    </tr>\n    <tr>\n      <th>2021-11-16</th>\n      <td>36316.609375</td>\n      <td>36076.179688</td>\n      <td>36076.179688</td>\n      <td>36142.218750</td>\n      <td>308290000</td>\n      <td>36142.218750</td>\n      <td>35931.050781</td>\n    </tr>\n    <tr>\n      <th>2021-11-17</th>\n      <td>36159.699219</td>\n      <td>35909.480469</td>\n      <td>36159.699219</td>\n      <td>35931.050781</td>\n      <td>358310000</td>\n      <td>35931.050781</td>\n      <td>35870.949219</td>\n    </tr>\n    <tr>\n      <th>2021-11-18</th>\n      <td>35952.628906</td>\n      <td>35654.390625</td>\n      <td>35901.691406</td>\n      <td>35870.949219</td>\n      <td>435080000</td>\n      <td>35870.949219</td>\n      <td>35601.980469</td>\n    </tr>\n    <tr>\n      <th>2021-11-19</th>\n      <td>35879.089844</td>\n      <td>35555.371094</td>\n      <td>35879.089844</td>\n      <td>35601.980469</td>\n      <td>408840000</td>\n      <td>35601.980469</td>\n      <td>35619.250000</td>\n    </tr>\n    <tr>\n      <th>2021-11-22</th>\n      <td>35929.660156</td>\n      <td>35615.550781</td>\n      <td>35631.410156</td>\n      <td>35619.250000</td>\n      <td>420810000</td>\n      <td>35619.250000</td>\n      <td>NaN</td>\n    </tr>\n  </tbody>\n</table>\n<p>1485 rows × 7 columns</p>\n</div>"
     },
     "metadata": {},
     "execution_count": 729
    }
   ],
   "source": [
    "dji['Future Close'] = dji['Close'].shift(-1)\n",
    "dji"
   ]
  },
  {
   "cell_type": "code",
   "execution_count": 730,
   "metadata": {},
   "outputs": [],
   "source": [
    "def computeTarget(present_price, future_price):\n",
    "    score = (( future_price - present_price ) / present_price ) * 100\n",
    "    target = []\n",
    "    for i in score:\n",
    "        if i > 0:\n",
    "            target.append(1)\n",
    "        else:\n",
    "            target.append(0)\n",
    "    return target\n",
    "# 2 = up, 1 = down, 0 = sideway"
   ]
  },
  {
   "cell_type": "code",
   "execution_count": 731,
   "metadata": {},
   "outputs": [],
   "source": [
    "\n",
    "target = computeTarget(dji['Close'], dji['Future Close'])\n",
    "\n",
    "dji['Target'] = target\n",
    "dji = dji.dropna()"
   ]
  },
  {
   "cell_type": "code",
   "execution_count": 732,
   "id": "ead8e0e8-fc6a-4772-8f0b-5bec6abac5c8",
   "metadata": {},
   "outputs": [],
   "source": [
    "close = dji['Close']\n",
    "high = dji['High']\n",
    "low = dji['Low']\n",
    "open = dji['Open']\n",
    "volume  = dji['Volume']"
   ]
  },
  {
   "cell_type": "code",
   "execution_count": 733,
   "id": "a43f2f7d-15b4-435d-a133-cccb77d6f831",
   "metadata": {},
   "outputs": [
    {
     "output_type": "execute_result",
     "data": {
      "text/plain": [
       "                   SMA20         SMA50        SMA200           EMA  \\\n",
       "Date                                                                 \n",
       "2015-12-31           NaN           NaN           NaN           NaN   \n",
       "2016-01-04           NaN           NaN           NaN           NaN   \n",
       "2016-01-05           NaN           NaN           NaN           NaN   \n",
       "2016-01-06           NaN           NaN           NaN           NaN   \n",
       "2016-01-07           NaN           NaN           NaN           NaN   \n",
       "...                  ...           ...           ...           ...   \n",
       "2021-11-15  35920.142969  35120.292734  34133.517100  35983.146326   \n",
       "2021-11-16  35954.388477  35141.137109  34160.790791  36004.355982   \n",
       "2021-11-17  35970.474023  35159.136719  34186.828047  35994.581955   \n",
       "2021-11-18  35983.867578  35178.968125  34210.903496  35978.097590   \n",
       "2021-11-19  35980.115625  35198.853359  34233.172197  35927.948641   \n",
       "\n",
       "                     OBV      RSI14        ADX       ADXR   aroondown  \\\n",
       "Date                                                                    \n",
       "2015-12-31  9.369000e+07        NaN        NaN        NaN         NaN   \n",
       "2016-01-04 -5.437000e+07        NaN        NaN        NaN         NaN   \n",
       "2016-01-05  5.138000e+07        NaN        NaN        NaN         NaN   \n",
       "2016-01-06 -6.887000e+07        NaN        NaN        NaN         NaN   \n",
       "2016-01-07 -2.451100e+08        NaN        NaN        NaN         NaN   \n",
       "...                  ...        ...        ...        ...         ...   \n",
       "2021-11-15  4.037648e+10  59.727010  23.895160  23.179295    7.142857   \n",
       "2021-11-16  4.068477e+10  60.821001  23.921669  22.839573    0.000000   \n",
       "2021-11-17  4.032646e+10  54.656278  23.134882  22.278214    0.000000   \n",
       "2021-11-18  3.989138e+10  53.009423  21.616344  21.578782    0.000000   \n",
       "2021-11-19  3.948254e+10  46.287684  20.569966  21.215418  100.000000   \n",
       "\n",
       "                   APO  ...       ROC      ROCP      ROCR     ROCR100  \\\n",
       "Date                    ...                                             \n",
       "2015-12-31         NaN  ...       NaN       NaN       NaN         NaN   \n",
       "2016-01-04         NaN  ...       NaN       NaN       NaN         NaN   \n",
       "2016-01-05         NaN  ...       NaN       NaN       NaN         NaN   \n",
       "2016-01-06         NaN  ...       NaN       NaN       NaN         NaN   \n",
       "2016-01-07         NaN  ...       NaN       NaN       NaN         NaN   \n",
       "...                ...  ...       ...       ...       ...         ...   \n",
       "2021-11-15  452.909655  ...  0.483405  0.004834  1.004834  100.483405   \n",
       "2021-11-16  416.484150  ...  0.248497  0.002485  1.002485  100.248497   \n",
       "2021-11-17  358.198743  ... -0.626500 -0.006265  0.993735   99.373500   \n",
       "2021-11-18  285.630283  ... -0.701140 -0.007011  0.992989   99.298860   \n",
       "2021-11-19  212.814253  ... -1.998375 -0.019984  0.980016   98.001625   \n",
       "\n",
       "                slowk      fastk      TRIX     ULTOSC      WILLR  Target  \n",
       "Date                                                                      \n",
       "2015-12-31        NaN        NaN       NaN        NaN        NaN       0  \n",
       "2016-01-04        NaN        NaN       NaN        NaN        NaN       1  \n",
       "2016-01-05        NaN        NaN       NaN        NaN        NaN       0  \n",
       "2016-01-06        NaN        NaN       NaN        NaN        NaN       0  \n",
       "2016-01-07        NaN        NaN       NaN        NaN        NaN       0  \n",
       "...               ...        ...       ...        ...        ...     ...  \n",
       "2021-11-15  21.227432  34.318504  0.048812  47.777185 -44.478834       1  \n",
       "2021-11-16  38.460274  52.614944  0.051693  45.702226 -41.507722       0  \n",
       "2021-11-17  30.743867   5.298153  0.054180  40.768597 -68.059884       0  \n",
       "2021-11-18  30.205023  32.701973  0.056254  43.144530 -76.237339       0  \n",
       "2021-11-19  14.707654   6.122836  0.057744  41.457206 -95.386852       1  \n",
       "\n",
       "[1484 rows x 33 columns]"
      ],
      "text/html": "<div>\n<style scoped>\n    .dataframe tbody tr th:only-of-type {\n        vertical-align: middle;\n    }\n\n    .dataframe tbody tr th {\n        vertical-align: top;\n    }\n\n    .dataframe thead th {\n        text-align: right;\n    }\n</style>\n<table border=\"1\" class=\"dataframe\">\n  <thead>\n    <tr style=\"text-align: right;\">\n      <th></th>\n      <th>SMA20</th>\n      <th>SMA50</th>\n      <th>SMA200</th>\n      <th>EMA</th>\n      <th>OBV</th>\n      <th>RSI14</th>\n      <th>ADX</th>\n      <th>ADXR</th>\n      <th>aroondown</th>\n      <th>APO</th>\n      <th>...</th>\n      <th>ROC</th>\n      <th>ROCP</th>\n      <th>ROCR</th>\n      <th>ROCR100</th>\n      <th>slowk</th>\n      <th>fastk</th>\n      <th>TRIX</th>\n      <th>ULTOSC</th>\n      <th>WILLR</th>\n      <th>Target</th>\n    </tr>\n    <tr>\n      <th>Date</th>\n      <th></th>\n      <th></th>\n      <th></th>\n      <th></th>\n      <th></th>\n      <th></th>\n      <th></th>\n      <th></th>\n      <th></th>\n      <th></th>\n      <th></th>\n      <th></th>\n      <th></th>\n      <th></th>\n      <th></th>\n      <th></th>\n      <th></th>\n      <th></th>\n      <th></th>\n      <th></th>\n      <th></th>\n    </tr>\n  </thead>\n  <tbody>\n    <tr>\n      <th>2015-12-31</th>\n      <td>NaN</td>\n      <td>NaN</td>\n      <td>NaN</td>\n      <td>NaN</td>\n      <td>9.369000e+07</td>\n      <td>NaN</td>\n      <td>NaN</td>\n      <td>NaN</td>\n      <td>NaN</td>\n      <td>NaN</td>\n      <td>...</td>\n      <td>NaN</td>\n      <td>NaN</td>\n      <td>NaN</td>\n      <td>NaN</td>\n      <td>NaN</td>\n      <td>NaN</td>\n      <td>NaN</td>\n      <td>NaN</td>\n      <td>NaN</td>\n      <td>0</td>\n    </tr>\n    <tr>\n      <th>2016-01-04</th>\n      <td>NaN</td>\n      <td>NaN</td>\n      <td>NaN</td>\n      <td>NaN</td>\n      <td>-5.437000e+07</td>\n      <td>NaN</td>\n      <td>NaN</td>\n      <td>NaN</td>\n      <td>NaN</td>\n      <td>NaN</td>\n      <td>...</td>\n      <td>NaN</td>\n      <td>NaN</td>\n      <td>NaN</td>\n      <td>NaN</td>\n      <td>NaN</td>\n      <td>NaN</td>\n      <td>NaN</td>\n      <td>NaN</td>\n      <td>NaN</td>\n      <td>1</td>\n    </tr>\n    <tr>\n      <th>2016-01-05</th>\n      <td>NaN</td>\n      <td>NaN</td>\n      <td>NaN</td>\n      <td>NaN</td>\n      <td>5.138000e+07</td>\n      <td>NaN</td>\n      <td>NaN</td>\n      <td>NaN</td>\n      <td>NaN</td>\n      <td>NaN</td>\n      <td>...</td>\n      <td>NaN</td>\n      <td>NaN</td>\n      <td>NaN</td>\n      <td>NaN</td>\n      <td>NaN</td>\n      <td>NaN</td>\n      <td>NaN</td>\n      <td>NaN</td>\n      <td>NaN</td>\n      <td>0</td>\n    </tr>\n    <tr>\n      <th>2016-01-06</th>\n      <td>NaN</td>\n      <td>NaN</td>\n      <td>NaN</td>\n      <td>NaN</td>\n      <td>-6.887000e+07</td>\n      <td>NaN</td>\n      <td>NaN</td>\n      <td>NaN</td>\n      <td>NaN</td>\n      <td>NaN</td>\n      <td>...</td>\n      <td>NaN</td>\n      <td>NaN</td>\n      <td>NaN</td>\n      <td>NaN</td>\n      <td>NaN</td>\n      <td>NaN</td>\n      <td>NaN</td>\n      <td>NaN</td>\n      <td>NaN</td>\n      <td>0</td>\n    </tr>\n    <tr>\n      <th>2016-01-07</th>\n      <td>NaN</td>\n      <td>NaN</td>\n      <td>NaN</td>\n      <td>NaN</td>\n      <td>-2.451100e+08</td>\n      <td>NaN</td>\n      <td>NaN</td>\n      <td>NaN</td>\n      <td>NaN</td>\n      <td>NaN</td>\n      <td>...</td>\n      <td>NaN</td>\n      <td>NaN</td>\n      <td>NaN</td>\n      <td>NaN</td>\n      <td>NaN</td>\n      <td>NaN</td>\n      <td>NaN</td>\n      <td>NaN</td>\n      <td>NaN</td>\n      <td>0</td>\n    </tr>\n    <tr>\n      <th>...</th>\n      <td>...</td>\n      <td>...</td>\n      <td>...</td>\n      <td>...</td>\n      <td>...</td>\n      <td>...</td>\n      <td>...</td>\n      <td>...</td>\n      <td>...</td>\n      <td>...</td>\n      <td>...</td>\n      <td>...</td>\n      <td>...</td>\n      <td>...</td>\n      <td>...</td>\n      <td>...</td>\n      <td>...</td>\n      <td>...</td>\n      <td>...</td>\n      <td>...</td>\n      <td>...</td>\n    </tr>\n    <tr>\n      <th>2021-11-15</th>\n      <td>35920.142969</td>\n      <td>35120.292734</td>\n      <td>34133.517100</td>\n      <td>35983.146326</td>\n      <td>4.037648e+10</td>\n      <td>59.727010</td>\n      <td>23.895160</td>\n      <td>23.179295</td>\n      <td>7.142857</td>\n      <td>452.909655</td>\n      <td>...</td>\n      <td>0.483405</td>\n      <td>0.004834</td>\n      <td>1.004834</td>\n      <td>100.483405</td>\n      <td>21.227432</td>\n      <td>34.318504</td>\n      <td>0.048812</td>\n      <td>47.777185</td>\n      <td>-44.478834</td>\n      <td>1</td>\n    </tr>\n    <tr>\n      <th>2021-11-16</th>\n      <td>35954.388477</td>\n      <td>35141.137109</td>\n      <td>34160.790791</td>\n      <td>36004.355982</td>\n      <td>4.068477e+10</td>\n      <td>60.821001</td>\n      <td>23.921669</td>\n      <td>22.839573</td>\n      <td>0.000000</td>\n      <td>416.484150</td>\n      <td>...</td>\n      <td>0.248497</td>\n      <td>0.002485</td>\n      <td>1.002485</td>\n      <td>100.248497</td>\n      <td>38.460274</td>\n      <td>52.614944</td>\n      <td>0.051693</td>\n      <td>45.702226</td>\n      <td>-41.507722</td>\n      <td>0</td>\n    </tr>\n    <tr>\n      <th>2021-11-17</th>\n      <td>35970.474023</td>\n      <td>35159.136719</td>\n      <td>34186.828047</td>\n      <td>35994.581955</td>\n      <td>4.032646e+10</td>\n      <td>54.656278</td>\n      <td>23.134882</td>\n      <td>22.278214</td>\n      <td>0.000000</td>\n      <td>358.198743</td>\n      <td>...</td>\n      <td>-0.626500</td>\n      <td>-0.006265</td>\n      <td>0.993735</td>\n      <td>99.373500</td>\n      <td>30.743867</td>\n      <td>5.298153</td>\n      <td>0.054180</td>\n      <td>40.768597</td>\n      <td>-68.059884</td>\n      <td>0</td>\n    </tr>\n    <tr>\n      <th>2021-11-18</th>\n      <td>35983.867578</td>\n      <td>35178.968125</td>\n      <td>34210.903496</td>\n      <td>35978.097590</td>\n      <td>3.989138e+10</td>\n      <td>53.009423</td>\n      <td>21.616344</td>\n      <td>21.578782</td>\n      <td>0.000000</td>\n      <td>285.630283</td>\n      <td>...</td>\n      <td>-0.701140</td>\n      <td>-0.007011</td>\n      <td>0.992989</td>\n      <td>99.298860</td>\n      <td>30.205023</td>\n      <td>32.701973</td>\n      <td>0.056254</td>\n      <td>43.144530</td>\n      <td>-76.237339</td>\n      <td>0</td>\n    </tr>\n    <tr>\n      <th>2021-11-19</th>\n      <td>35980.115625</td>\n      <td>35198.853359</td>\n      <td>34233.172197</td>\n      <td>35927.948641</td>\n      <td>3.948254e+10</td>\n      <td>46.287684</td>\n      <td>20.569966</td>\n      <td>21.215418</td>\n      <td>100.000000</td>\n      <td>212.814253</td>\n      <td>...</td>\n      <td>-1.998375</td>\n      <td>-0.019984</td>\n      <td>0.980016</td>\n      <td>98.001625</td>\n      <td>14.707654</td>\n      <td>6.122836</td>\n      <td>0.057744</td>\n      <td>41.457206</td>\n      <td>-95.386852</td>\n      <td>1</td>\n    </tr>\n  </tbody>\n</table>\n<p>1484 rows × 33 columns</p>\n</div>"
     },
     "metadata": {},
     "execution_count": 733
    }
   ],
   "source": [
    "dji_ti = pd.DataFrame()\n",
    "dji_ti['SMA20'] = talib.SMA(close, timeperiod=20)\n",
    "dji_ti['SMA50'] = talib.SMA(close, timeperiod=50)\n",
    "dji_ti['SMA200'] = talib.SMA(close, timeperiod=200)\n",
    "dji_ti['EMA'] = talib.EMA(close, timeperiod=14)\n",
    "dji_ti['OBV'] = talib.OBV(close, volume)\n",
    "dji_ti['RSI14'] = talib.RSI(close, timeperiod=14)\n",
    "dji_ti['ADX'] = talib.ADX(high, low, close, timeperiod=14)\n",
    "dji_ti['ADXR'] = talib.ADXR(high, low, close, timeperiod=14)\n",
    "dji_ti['aroondown'], ti['aroonup'] = talib.AROON(high, low, timeperiod=14)\n",
    "dji_ti['APO'] = talib.APO(close, fastperiod=12, slowperiod=26, matype=0)\n",
    "dji_ti['AROONOSC'] = talib.AROONOSC(high, low, timeperiod=14)\n",
    "dji_ti['BOP'] = talib.BOP(open, high, low, close)\n",
    "dji_ti['CCI'] = talib.CCI(high, low, close, timeperiod=14)\n",
    "dji_ti['CMO'] = talib.CMO(close, timeperiod=14)\n",
    "dji_ti['DX'] = talib.DX(high, low, close, timeperiod=14)\n",
    "dji_ti['macd'],ti['macdsignal'],ti['macdhist'] = talib.MACD(close, fastperiod = 12, slowperiod=26, signalperiod=9)\n",
    "dji_ti['MFI'] = talib.MFI(high, low, close, volume, timeperiod=14)\n",
    "dji_ti['MINUS_DI'] = talib.MINUS_DI(high, low, close, timeperiod=14)\n",
    "dji_ti['MINUS_DM'] = talib.MINUS_DM(high, low, timeperiod=14)\n",
    "dji_ti['MOM'] = talib.MOM(close, timeperiod=14)\n",
    "dji_ti['PLUS_DI'] = talib.PLUS_DI(high, low, close, timeperiod=14)\n",
    "dji_ti['PLUS_DM'] = talib.PLUS_DM(high, low, timeperiod=14)\n",
    "dji_ti['PPO'] = talib.PPO(close, fastperiod=12, slowperiod=26, matype=0)\n",
    "dji_ti['ROC'] = talib.ROC(close, timeperiod=10)\n",
    "dji_ti['ROCP'] = talib.ROCP(close, timeperiod=10)\n",
    "dji_ti['ROCR'] = talib.ROCR(close, timeperiod=10)\n",
    "dji_ti['ROCR100'] = talib.ROCR100(close, timeperiod=10)\n",
    "dji_ti['slowk'], ti['slowd'] = talib.STOCH(high, low, close, fastk_period=5, slowk_period=3, slowd_period=3, slowd_matype=0)\n",
    "dji_ti['fastk'], ti['fastd'] = talib.STOCHF(high, low, close, fastk_period=5, fastd_period=3, fastd_matype=0)\n",
    "dji_ti['TRIX'] = talib.TRIX(close, timeperiod=30)\n",
    "dji_ti['ULTOSC'] = talib.ULTOSC(high, low, close, timeperiod1=7, timeperiod2=14, timeperiod3=28)\n",
    "dji_ti['WILLR'] = talib.WILLR(high, low, close, timeperiod=14)\n",
    "dji_ti['Target'] = dji['Target']\n",
    "dji_ti"
   ]
  },
  {
   "cell_type": "code",
   "execution_count": 734,
   "id": "346fa05c-4b8a-44b0-b842-e39484a51772",
   "metadata": {},
   "outputs": [],
   "source": [
    "# plt.figure(figsize=(12,10))\n",
    "# cor = ti.corr()\n",
    "# sns.heatmap(cor, annot=True, cmap=plt.cm.Reds)\n",
    "# plt.show()"
   ]
  },
  {
   "cell_type": "code",
   "execution_count": 735,
   "id": "06fb88c7-0a62-44f0-bf4d-2c0da39151f3",
   "metadata": {},
   "outputs": [],
   "source": [
    "# cor_target = abs(cor[\"Target\"])\n",
    "# features = cor_target[cor_target>0.05]\n",
    "# features"
   ]
  },
  {
   "cell_type": "code",
   "execution_count": 751,
   "metadata": {},
   "outputs": [
    {
     "output_type": "execute_result",
     "data": {
      "text/plain": [
       "Date\n",
       "2016-10-14    0\n",
       "2016-10-17    1\n",
       "2016-10-18    1\n",
       "2016-10-19    0\n",
       "2016-10-20    0\n",
       "             ..\n",
       "2021-11-15    1\n",
       "2021-11-16    0\n",
       "2021-11-17    0\n",
       "2021-11-18    0\n",
       "2021-11-19    1\n",
       "Name: Target, Length: 1285, dtype: int64"
      ]
     },
     "metadata": {},
     "execution_count": 751
    }
   ],
   "source": [
    "dji_ti = dji_ti.dropna()\n",
    "X = dji_ti.drop(\"Target\", axis=1)  # Feature Matrix\n",
    "y = dji_ti[\"Target\"]               # Target Variable\n",
    "y"
   ]
  },
  {
   "cell_type": "code",
   "execution_count": 752,
   "metadata": {},
   "outputs": [],
   "source": [
    "X = X.fillna(0)"
   ]
  },
  {
   "cell_type": "code",
   "execution_count": 753,
   "metadata": {},
   "outputs": [],
   "source": [
    "#X.isna().sum()"
   ]
  },
  {
   "cell_type": "code",
   "execution_count": 754,
   "metadata": {},
   "outputs": [
    {
     "output_type": "stream",
     "name": "stdout",
     "text": [
      "[False False False False False  True False False False False False  True\n False  True False False False False False False  True False False  True\n False False  True False False  True False False]\n[16 15 24 22 26  1  9  8  7 13 12  1 11  1 17 14 25  3 19 23  1 18  4  1\n 21 20  1  6 10  1  2  5]\n"
     ]
    }
   ],
   "source": [
    "model = LinearRegression()\n",
    "\n",
    "#Initializing RFE model\n",
    "rfe = RFE(model, n_features_to_select=7)\n",
    "\n",
    "#Transforming data using RFE\n",
    "X_rfe = rfe.fit_transform(X,y)  \n",
    "\n",
    "#Fitting the data to model\n",
    "model.fit(X_rfe,y)\n",
    "\n",
    "print(rfe.support_)\n",
    "print(rfe.ranking_)"
   ]
  },
  {
   "cell_type": "code",
   "execution_count": 755,
   "metadata": {},
   "outputs": [
    {
     "output_type": "stream",
     "name": "stdout",
     "text": [
      "Optimum number of features: 0\nScore with 0 features: 0.000000\n"
     ]
    }
   ],
   "source": [
    "# no. of features\n",
    "#\n",
    "nof_list = np.arange(1, 13)            \n",
    "high_score = 0\n",
    "\n",
    "# Variable to store the optimum features\n",
    "#\n",
    "nof = 0           \n",
    "score_list = []\n",
    "\n",
    "for n in range(len(nof_list)):\n",
    "    X_train, X_test, y_train, y_test = train_test_split(X,y, test_size = 0.9, random_state = 0)\n",
    "\n",
    "    model = LinearRegression()\n",
    "    rfe = RFE(model, n_features_to_select=nof_list[n])\n",
    "    X_train_rfe = rfe.fit_transform(X_train,y_train)\n",
    "    X_test_rfe = rfe.transform(X_test)\n",
    "    model.fit(X_train_rfe,y_train)\n",
    "\n",
    "    score = model.score(X_test_rfe,y_test)\n",
    "    score_list.append(score)\n",
    "\n",
    "    if(score > high_score):\n",
    "        high_score = score\n",
    "        nof = nof_list[n]\n",
    "\n",
    "print(\"Optimum number of features: %d\" % nof)\n",
    "print(\"Score with %d features: %f\" % (nof, high_score))"
   ]
  },
  {
   "cell_type": "code",
   "execution_count": 756,
   "metadata": {},
   "outputs": [
    {
     "output_type": "stream",
     "name": "stdout",
     "text": [
      "Index(['RSI14', 'BOP', 'CMO', 'MINUS_DI', 'PLUS_DI', 'PPO', 'ROC', 'ROCR100',\n       'TRIX', 'ULTOSC'],\n      dtype='object')\n"
     ]
    }
   ],
   "source": [
    "cols = list(X.columns)\n",
    "model = LinearRegression()\n",
    "\n",
    "# Initializing RFE model\n",
    "rfe = RFE(model, n_features_to_select=10)             \n",
    "\n",
    "# Transforming data using RFE\n",
    "X_rfe = rfe.fit_transform(X,y)  \n",
    "\n",
    "# Fitting the data to model\n",
    "model.fit(X_rfe,y)              \n",
    "temp = pd.Series(rfe.support_, index = cols)\n",
    "selected_features_rfe = temp[temp==True].index\n",
    "\n",
    "print(selected_features_rfe)"
   ]
  },
  {
   "cell_type": "code",
   "execution_count": 777,
   "metadata": {},
   "outputs": [],
   "source": [
    "# dji_ti = dji_ti.dropna()\n",
    "# X = dji_ti.drop(\"Target\", axis=1)  # Feature Matrix\n",
    "# y = dji_ti[\"Target\"]               # Target Variable\n",
    "# #Split the features and target data\n",
    "# #Define Sequential Forward Selection (sfs)\n",
    "# sfs = SFS(LinearRegression(),\n",
    "#            k_features=5,\n",
    "#            forward=True,\n",
    "#            floating=False,\n",
    "#            scoring = 'r2',\n",
    "#            cv = 0)\n",
    "# #Use SFS to select the top 5 features \n",
    "# sfs.fit(X, y)\n",
    "\n",
    "# #Create a dataframe for the SFS results \n",
    "# df_SFS_results = pd.DataFrame(sfs.subsets_).transpose()\n",
    "# df_SFS_results\n"
   ]
  },
  {
   "cell_type": "markdown",
   "id": "cbc5745e-a6fa-40e8-bb57-3cd7ee33c37c",
   "metadata": {},
   "source": [
    "<h2>จากการทำ Feature Selection ควรจะใช้ 'RSI14', 'BOP', 'CMO', 'MINUS_DI', 'PLUS_DI', 'PPO', 'ROC', 'ROCR100','TRIX', 'ULTOSC' ในการสร้าง model</h2>"
   ]
  },
  {
   "cell_type": "code",
   "execution_count": 769,
   "id": "bf8b7288-39a2-459a-a648-3a864c51f0e7",
   "metadata": {},
   "outputs": [],
   "source": [
    "from sklearn.model_selection import train_test_split\n",
    "X = dji_ti.loc[:, ['RSI14', 'BOP', 'CMO', 'MINUS_DI', 'PLUS_DI', 'PPO', 'ROC', 'ROCR100','TRIX', 'ULTOSC']].values\n",
    "#X = dji_ti.loc[:, ['CCI', 'DX', 'MINUS_DI', 'PLUS_DM', 'slowd']].values\n",
    "y = dji_ti.loc[:, ['Target']].values\n",
    "X_train, X_test, y_train, y_test = train_test_split(X, y, test_size=0.2, random_state=0)"
   ]
  },
  {
   "cell_type": "code",
   "execution_count": 770,
   "metadata": {},
   "outputs": [],
   "source": [
    "from sklearn.preprocessing import StandardScaler\n",
    "sc = StandardScaler()\n",
    "X_train = sc.fit_transform(X_train)\n",
    "X_test = sc.transform(X_test)"
   ]
  },
  {
   "cell_type": "code",
   "execution_count": 771,
   "metadata": {},
   "outputs": [],
   "source": [
    "# Visualize the data\n",
    "#\n",
    "def visualize(title, xlabel, ylabel, classifier, X_test, y_test):\n",
    "    X_set, y_set = X_test, y_test\n",
    "    X1, X2 = np.meshgrid(np.arange(start = X_set[:, 0].min() - 1, stop = X_set[:, 0].max() + 1, step = 0.01),\n",
    "                         np.arange(start = X_set[:, 1].min() - 1, stop = X_set[:, 1].max() + 1, step = 0.01))\n",
    "    plt.contourf(X1, X2, classifier.predict(np.array([X1.ravel(), X2.ravel()]).T).reshape(X1.shape),\n",
    "                 alpha = 0.75, cmap = ListedColormap(('lightblue', 'cornsilk')))\n",
    "    plt.xlim(X1.min(), X1.max())\n",
    "    plt.ylim(X2.min(), X2.max())\n",
    "\n",
    "    for i, j in enumerate(np.unique(y_set)):\n",
    "        plt.scatter(X_set[y_set == j, 0], X_set[y_set == j, 1], label = j)\n",
    "\n",
    "    plt.title(title)\n",
    "    plt.xlabel(xlabel)\n",
    "    plt.ylabel(ylabel)\n",
    "    plt.legend()\n",
    "    plt.show()"
   ]
  },
  {
   "source": [
    "<h2>Decision Tree</h2>"
   ],
   "cell_type": "markdown",
   "metadata": {}
  },
  {
   "cell_type": "code",
   "execution_count": 772,
   "metadata": {},
   "outputs": [
    {
     "output_type": "execute_result",
     "data": {
      "text/plain": [
       "DecisionTreeClassifier()"
      ]
     },
     "metadata": {},
     "execution_count": 772
    }
   ],
   "source": [
    "# Decision Tree Classifier: Create and Train the model\n",
    "#\n",
    "from sklearn.tree import DecisionTreeClassifier\n",
    "\n",
    "dtc = DecisionTreeClassifier()\n",
    "dtc.fit(X_train, y_train)"
   ]
  },
  {
   "cell_type": "code",
   "execution_count": 773,
   "metadata": {},
   "outputs": [
    {
     "output_type": "execute_result",
     "data": {
      "text/plain": [
       "array([1, 1, 0, 1, 1, 1, 1, 0, 0, 0, 1, 0, 0, 0, 1, 0, 1, 1, 1, 1, 1, 1,\n",
       "       1, 1, 0, 0, 0, 0, 1, 1, 1, 0, 1, 1, 0, 0, 1, 0, 1, 1, 0, 1, 1, 0,\n",
       "       0, 0, 1, 1, 0, 0, 1, 0, 0, 1, 0, 0, 0, 1, 0, 0, 1, 1, 1, 1, 1, 0,\n",
       "       1, 0, 1, 0, 1, 1, 1, 1, 0, 1, 0, 0, 0, 1, 1, 0, 1, 1, 0, 0, 0, 1,\n",
       "       1, 0, 1, 0, 0, 1, 0, 1, 1, 1, 1, 1, 1, 1, 1, 1, 1, 0, 0, 0, 0, 1,\n",
       "       0, 1, 1, 1, 1, 1, 1, 1, 1, 1, 1, 1, 1, 0, 0, 0, 0, 1, 1, 0, 0, 0,\n",
       "       1, 1, 1, 1, 0, 0, 0, 0, 1, 1, 0, 0, 0, 1, 1, 1, 1, 1, 0, 1, 0, 1,\n",
       "       0, 0, 1, 1, 1, 0, 0, 0, 1, 1, 1, 0, 0, 0, 1, 0, 0, 0, 1, 0, 1, 1,\n",
       "       1, 0, 1, 1, 1, 1, 1, 0, 0, 1, 0, 0, 0, 0, 1, 1, 0, 0, 1, 1, 0, 0,\n",
       "       1, 0, 0, 1, 1, 1, 0, 0, 1, 1, 1, 0, 0, 1, 1, 0, 1, 0, 1, 1, 1, 1,\n",
       "       0, 0, 1, 0, 1, 1, 0, 0, 1, 1, 1, 1, 0, 0, 1, 1, 0, 0, 0, 1, 1, 1,\n",
       "       0, 0, 0, 0, 1, 0, 1, 1, 1, 1, 1, 1, 1, 1, 0])"
      ]
     },
     "metadata": {},
     "execution_count": 773
    }
   ],
   "source": [
    "# Prediction\n",
    "#\n",
    "y_pred = dtc.predict(X_test)  #Accuracy\n",
    "y_pred"
   ]
  },
  {
   "cell_type": "code",
   "execution_count": 774,
   "metadata": {},
   "outputs": [
    {
     "output_type": "execute_result",
     "data": {
      "text/plain": [
       "array([[0],\n",
       "       [1],\n",
       "       [0],\n",
       "       [0],\n",
       "       [1],\n",
       "       [1],\n",
       "       [1],\n",
       "       [1],\n",
       "       [1],\n",
       "       [1],\n",
       "       [1],\n",
       "       [0],\n",
       "       [1],\n",
       "       [1],\n",
       "       [0],\n",
       "       [1],\n",
       "       [0],\n",
       "       [1],\n",
       "       [0],\n",
       "       [1],\n",
       "       [0],\n",
       "       [0],\n",
       "       [1],\n",
       "       [0],\n",
       "       [1],\n",
       "       [1],\n",
       "       [0],\n",
       "       [1],\n",
       "       [0],\n",
       "       [1],\n",
       "       [1],\n",
       "       [0],\n",
       "       [1],\n",
       "       [1],\n",
       "       [1],\n",
       "       [0],\n",
       "       [0],\n",
       "       [1],\n",
       "       [0],\n",
       "       [1],\n",
       "       [0],\n",
       "       [1],\n",
       "       [0],\n",
       "       [1],\n",
       "       [0],\n",
       "       [1],\n",
       "       [0],\n",
       "       [0],\n",
       "       [1],\n",
       "       [0],\n",
       "       [0],\n",
       "       [1],\n",
       "       [1],\n",
       "       [0],\n",
       "       [1],\n",
       "       [1],\n",
       "       [1],\n",
       "       [0],\n",
       "       [0],\n",
       "       [0],\n",
       "       [0],\n",
       "       [1],\n",
       "       [0],\n",
       "       [1],\n",
       "       [0],\n",
       "       [1],\n",
       "       [1],\n",
       "       [1],\n",
       "       [1],\n",
       "       [0],\n",
       "       [1],\n",
       "       [1],\n",
       "       [1],\n",
       "       [1],\n",
       "       [0],\n",
       "       [1],\n",
       "       [1],\n",
       "       [1],\n",
       "       [1],\n",
       "       [1],\n",
       "       [0],\n",
       "       [0],\n",
       "       [1],\n",
       "       [1],\n",
       "       [1],\n",
       "       [1],\n",
       "       [0],\n",
       "       [1],\n",
       "       [0],\n",
       "       [1],\n",
       "       [0],\n",
       "       [1],\n",
       "       [1],\n",
       "       [0],\n",
       "       [1],\n",
       "       [0],\n",
       "       [1],\n",
       "       [1],\n",
       "       [1],\n",
       "       [0],\n",
       "       [1],\n",
       "       [0],\n",
       "       [0],\n",
       "       [0],\n",
       "       [1],\n",
       "       [1],\n",
       "       [0],\n",
       "       [1],\n",
       "       [0],\n",
       "       [1],\n",
       "       [0],\n",
       "       [0],\n",
       "       [1],\n",
       "       [1],\n",
       "       [0],\n",
       "       [1],\n",
       "       [0],\n",
       "       [0],\n",
       "       [0],\n",
       "       [0],\n",
       "       [0],\n",
       "       [0],\n",
       "       [1],\n",
       "       [0],\n",
       "       [1],\n",
       "       [1],\n",
       "       [1],\n",
       "       [1],\n",
       "       [1],\n",
       "       [1],\n",
       "       [1],\n",
       "       [0],\n",
       "       [0],\n",
       "       [1],\n",
       "       [0],\n",
       "       [0],\n",
       "       [1],\n",
       "       [0],\n",
       "       [0],\n",
       "       [0],\n",
       "       [1],\n",
       "       [0],\n",
       "       [0],\n",
       "       [1],\n",
       "       [0],\n",
       "       [1],\n",
       "       [1],\n",
       "       [1],\n",
       "       [1],\n",
       "       [1],\n",
       "       [1],\n",
       "       [0],\n",
       "       [0],\n",
       "       [1],\n",
       "       [1],\n",
       "       [0],\n",
       "       [1],\n",
       "       [0],\n",
       "       [1],\n",
       "       [1],\n",
       "       [1],\n",
       "       [0],\n",
       "       [1],\n",
       "       [0],\n",
       "       [0],\n",
       "       [0],\n",
       "       [1],\n",
       "       [0],\n",
       "       [0],\n",
       "       [0],\n",
       "       [0],\n",
       "       [0],\n",
       "       [0],\n",
       "       [1],\n",
       "       [1],\n",
       "       [1],\n",
       "       [1],\n",
       "       [0],\n",
       "       [1],\n",
       "       [1],\n",
       "       [0],\n",
       "       [0],\n",
       "       [1],\n",
       "       [0],\n",
       "       [0],\n",
       "       [1],\n",
       "       [0],\n",
       "       [1],\n",
       "       [1],\n",
       "       [1],\n",
       "       [1],\n",
       "       [1],\n",
       "       [0],\n",
       "       [0],\n",
       "       [0],\n",
       "       [1],\n",
       "       [1],\n",
       "       [1],\n",
       "       [1],\n",
       "       [1],\n",
       "       [0],\n",
       "       [1],\n",
       "       [1],\n",
       "       [1],\n",
       "       [0],\n",
       "       [1],\n",
       "       [1],\n",
       "       [0],\n",
       "       [0],\n",
       "       [1],\n",
       "       [0],\n",
       "       [1],\n",
       "       [0],\n",
       "       [1],\n",
       "       [1],\n",
       "       [1],\n",
       "       [0],\n",
       "       [0],\n",
       "       [0],\n",
       "       [1],\n",
       "       [0],\n",
       "       [1],\n",
       "       [0],\n",
       "       [0],\n",
       "       [0],\n",
       "       [1],\n",
       "       [1],\n",
       "       [1],\n",
       "       [1],\n",
       "       [1],\n",
       "       [1],\n",
       "       [1],\n",
       "       [0],\n",
       "       [1],\n",
       "       [0],\n",
       "       [1],\n",
       "       [1],\n",
       "       [1],\n",
       "       [1],\n",
       "       [1],\n",
       "       [1],\n",
       "       [1],\n",
       "       [1],\n",
       "       [1],\n",
       "       [1],\n",
       "       [0],\n",
       "       [1],\n",
       "       [1],\n",
       "       [1],\n",
       "       [1],\n",
       "       [1],\n",
       "       [1],\n",
       "       [0],\n",
       "       [1],\n",
       "       [1],\n",
       "       [0],\n",
       "       [0]])"
      ]
     },
     "metadata": {},
     "execution_count": 774
    }
   ],
   "source": [
    "# Look at the actual y_test\n",
    "#\n",
    "y_test"
   ]
  },
  {
   "cell_type": "code",
   "execution_count": 775,
   "metadata": {},
   "outputs": [
    {
     "output_type": "stream",
     "name": "stdout",
     "text": [
      "Accuracy Score: 0.5058365758754864\n"
     ]
    }
   ],
   "source": [
    "# See the accuracy\n",
    "#\n",
    "from sklearn import metrics\n",
    "print('Accuracy Score:', metrics.accuracy_score(y_test, y_pred))"
   ]
  },
  {
   "cell_type": "code",
   "execution_count": 765,
   "metadata": {},
   "outputs": [
    {
     "output_type": "execute_result",
     "data": {
      "text/plain": [
       "array([[ 1,  4,  6],\n",
       "       [ 8, 51, 52],\n",
       "       [ 2, 55, 61]])"
      ]
     },
     "metadata": {},
     "execution_count": 765
    }
   ],
   "source": [
    "# See the confusion matrix\n",
    "#\n",
    "from sklearn.metrics import confusion_matrix\n",
    "cm = confusion_matrix(y_test, y_pred)\n",
    "cm"
   ]
  },
  {
   "source": [
    "<h2>Random Forest</h2>"
   ],
   "cell_type": "markdown",
   "metadata": {}
  },
  {
   "cell_type": "code",
   "execution_count": null,
   "metadata": {},
   "outputs": [],
   "source": []
  },
  {
   "source": [
    "<h2>Logistic Regression</h2>"
   ],
   "cell_type": "markdown",
   "metadata": {}
  },
  {
   "cell_type": "code",
   "execution_count": null,
   "metadata": {},
   "outputs": [],
   "source": []
  },
  {
   "source": [
    "<h2>XGBoost</h2>"
   ],
   "cell_type": "markdown",
   "metadata": {}
  },
  {
   "cell_type": "code",
   "execution_count": null,
   "metadata": {},
   "outputs": [],
   "source": []
  },
  {
   "source": [
    "<h2>Linear Regression</h2>"
   ],
   "cell_type": "markdown",
   "metadata": {}
  },
  {
   "cell_type": "code",
   "execution_count": null,
   "metadata": {},
   "outputs": [],
   "source": []
  },
  {
   "source": [
    "<h2>Gauccian Process Regress</h2>"
   ],
   "cell_type": "markdown",
   "metadata": {}
  },
  {
   "cell_type": "code",
   "execution_count": null,
   "metadata": {},
   "outputs": [],
   "source": []
  },
  {
   "source": [
    "<h1>Nikkei 225 Stock Average</h1>"
   ],
   "cell_type": "markdown",
   "metadata": {}
  },
  {
   "source": [
    "<h2>Feature Selection</h2>"
   ],
   "cell_type": "markdown",
   "metadata": {}
  },
  {
   "cell_type": "code",
   "execution_count": 787,
   "metadata": {},
   "outputs": [
    {
     "output_type": "execute_result",
     "data": {
      "text/plain": [
       "                    High           Low          Open         Close  \\\n",
       "Date                                                                 \n",
       "2016-01-04  18951.119141  18394.429688  18818.580078  18450.980469   \n",
       "2016-01-05  18547.380859  18327.519531  18398.759766  18374.000000   \n",
       "2016-01-06  18469.380859  18064.300781  18410.570312  18191.320312   \n",
       "2016-01-07  18172.039062  17767.339844  18139.769531  17767.339844   \n",
       "2016-01-08  17975.310547  17509.640625  17562.230469  17697.960938   \n",
       "...                  ...           ...           ...           ...   \n",
       "2021-11-16  29960.929688  29681.250000  29749.710938  29808.119141   \n",
       "2021-11-17  29909.970703  29623.789062  29906.679688  29688.330078   \n",
       "2021-11-18  29715.949219  29402.570312  29597.929688  29598.660156   \n",
       "2021-11-19  29768.539062  29589.189453  29641.050781  29745.869141   \n",
       "2021-11-22  29806.490234  29542.289062  29618.550781  29774.109375   \n",
       "\n",
       "                 Volume     Adj Close  Future Close  \n",
       "Date                                                 \n",
       "2016-01-04  140200000.0  18450.980469  18374.000000  \n",
       "2016-01-05  132300000.0  18374.000000  18191.320312  \n",
       "2016-01-06  142200000.0  18191.320312  17767.339844  \n",
       "2016-01-07  168000000.0  17767.339844  17697.960938  \n",
       "2016-01-08  184300000.0  17697.960938  17218.960938  \n",
       "...                 ...           ...           ...  \n",
       "2021-11-16   62000000.0  29808.119141  29688.330078  \n",
       "2021-11-17   63900000.0  29688.330078  29598.660156  \n",
       "2021-11-18   65400000.0  29598.660156  29745.869141  \n",
       "2021-11-19   65600000.0  29745.869141  29774.109375  \n",
       "2021-11-22   58800000.0  29774.109375           NaN  \n",
       "\n",
       "[1439 rows x 7 columns]"
      ],
      "text/html": "<div>\n<style scoped>\n    .dataframe tbody tr th:only-of-type {\n        vertical-align: middle;\n    }\n\n    .dataframe tbody tr th {\n        vertical-align: top;\n    }\n\n    .dataframe thead th {\n        text-align: right;\n    }\n</style>\n<table border=\"1\" class=\"dataframe\">\n  <thead>\n    <tr style=\"text-align: right;\">\n      <th></th>\n      <th>High</th>\n      <th>Low</th>\n      <th>Open</th>\n      <th>Close</th>\n      <th>Volume</th>\n      <th>Adj Close</th>\n      <th>Future Close</th>\n    </tr>\n    <tr>\n      <th>Date</th>\n      <th></th>\n      <th></th>\n      <th></th>\n      <th></th>\n      <th></th>\n      <th></th>\n      <th></th>\n    </tr>\n  </thead>\n  <tbody>\n    <tr>\n      <th>2016-01-04</th>\n      <td>18951.119141</td>\n      <td>18394.429688</td>\n      <td>18818.580078</td>\n      <td>18450.980469</td>\n      <td>140200000.0</td>\n      <td>18450.980469</td>\n      <td>18374.000000</td>\n    </tr>\n    <tr>\n      <th>2016-01-05</th>\n      <td>18547.380859</td>\n      <td>18327.519531</td>\n      <td>18398.759766</td>\n      <td>18374.000000</td>\n      <td>132300000.0</td>\n      <td>18374.000000</td>\n      <td>18191.320312</td>\n    </tr>\n    <tr>\n      <th>2016-01-06</th>\n      <td>18469.380859</td>\n      <td>18064.300781</td>\n      <td>18410.570312</td>\n      <td>18191.320312</td>\n      <td>142200000.0</td>\n      <td>18191.320312</td>\n      <td>17767.339844</td>\n    </tr>\n    <tr>\n      <th>2016-01-07</th>\n      <td>18172.039062</td>\n      <td>17767.339844</td>\n      <td>18139.769531</td>\n      <td>17767.339844</td>\n      <td>168000000.0</td>\n      <td>17767.339844</td>\n      <td>17697.960938</td>\n    </tr>\n    <tr>\n      <th>2016-01-08</th>\n      <td>17975.310547</td>\n      <td>17509.640625</td>\n      <td>17562.230469</td>\n      <td>17697.960938</td>\n      <td>184300000.0</td>\n      <td>17697.960938</td>\n      <td>17218.960938</td>\n    </tr>\n    <tr>\n      <th>...</th>\n      <td>...</td>\n      <td>...</td>\n      <td>...</td>\n      <td>...</td>\n      <td>...</td>\n      <td>...</td>\n      <td>...</td>\n    </tr>\n    <tr>\n      <th>2021-11-16</th>\n      <td>29960.929688</td>\n      <td>29681.250000</td>\n      <td>29749.710938</td>\n      <td>29808.119141</td>\n      <td>62000000.0</td>\n      <td>29808.119141</td>\n      <td>29688.330078</td>\n    </tr>\n    <tr>\n      <th>2021-11-17</th>\n      <td>29909.970703</td>\n      <td>29623.789062</td>\n      <td>29906.679688</td>\n      <td>29688.330078</td>\n      <td>63900000.0</td>\n      <td>29688.330078</td>\n      <td>29598.660156</td>\n    </tr>\n    <tr>\n      <th>2021-11-18</th>\n      <td>29715.949219</td>\n      <td>29402.570312</td>\n      <td>29597.929688</td>\n      <td>29598.660156</td>\n      <td>65400000.0</td>\n      <td>29598.660156</td>\n      <td>29745.869141</td>\n    </tr>\n    <tr>\n      <th>2021-11-19</th>\n      <td>29768.539062</td>\n      <td>29589.189453</td>\n      <td>29641.050781</td>\n      <td>29745.869141</td>\n      <td>65600000.0</td>\n      <td>29745.869141</td>\n      <td>29774.109375</td>\n    </tr>\n    <tr>\n      <th>2021-11-22</th>\n      <td>29806.490234</td>\n      <td>29542.289062</td>\n      <td>29618.550781</td>\n      <td>29774.109375</td>\n      <td>58800000.0</td>\n      <td>29774.109375</td>\n      <td>NaN</td>\n    </tr>\n  </tbody>\n</table>\n<p>1439 rows × 7 columns</p>\n</div>"
     },
     "metadata": {},
     "execution_count": 787
    }
   ],
   "source": [
    "n225['Future Close'] = n225['Close'].shift(-1)\n",
    "n225"
   ]
  },
  {
   "cell_type": "code",
   "execution_count": 788,
   "metadata": {},
   "outputs": [],
   "source": [
    "target = computeTarget(n225['Close'], n225['Future Close'])\n",
    "\n",
    "n225['Target'] = target\n",
    "n225 = n225.dropna()"
   ]
  },
  {
   "cell_type": "code",
   "execution_count": 789,
   "metadata": {},
   "outputs": [],
   "source": [
    "close = n225['Close']\n",
    "high = n225['High']\n",
    "low = n225['Low']\n",
    "open = n225['Open']\n",
    "volume  = n225['Volume']"
   ]
  },
  {
   "cell_type": "code",
   "execution_count": 791,
   "metadata": {},
   "outputs": [
    {
     "output_type": "execute_result",
     "data": {
      "text/plain": [
       "                   SMA20         SMA50        SMA200           EMA  \\\n",
       "Date                                                                 \n",
       "2016-01-04           NaN           NaN           NaN           NaN   \n",
       "2016-01-05           NaN           NaN           NaN           NaN   \n",
       "2016-01-06           NaN           NaN           NaN           NaN   \n",
       "2016-01-07           NaN           NaN           NaN           NaN   \n",
       "2016-01-08           NaN           NaN           NaN           NaN   \n",
       "...                  ...           ...           ...           ...   \n",
       "2021-11-15  29233.262109  29297.366875  28901.341738  29352.537538   \n",
       "2021-11-16  29272.395020  29322.659062  28907.225088  29413.281752   \n",
       "2021-11-17  29296.035547  29333.863477  28911.555293  29449.954862   \n",
       "2021-11-18  29313.191016  29332.638867  28916.817695  29469.782235   \n",
       "2021-11-19  29365.055469  29329.233437  28922.370986  29506.593822   \n",
       "\n",
       "                     OBV      RSI14        ADX       ADXR  aroondown  \\\n",
       "Date                                                                   \n",
       "2016-01-04  1.402000e+08        NaN        NaN        NaN        NaN   \n",
       "2016-01-05  7.900000e+06        NaN        NaN        NaN        NaN   \n",
       "2016-01-06 -1.343000e+08        NaN        NaN        NaN        NaN   \n",
       "2016-01-07 -3.023000e+08        NaN        NaN        NaN        NaN   \n",
       "2016-01-08 -4.866000e+08        NaN        NaN        NaN        NaN   \n",
       "...                  ...        ...        ...        ...        ...   \n",
       "2021-11-15  5.710900e+09  58.851897  11.824174  15.413168   0.000000   \n",
       "2021-11-16  5.772900e+09  59.249153  11.990726  14.860945  21.428571   \n",
       "2021-11-17  5.709000e+09  56.983099  11.979636  14.369150  14.285714   \n",
       "2021-11-18  5.643600e+09  55.278742  11.348443  13.825177   7.142857   \n",
       "2021-11-19  5.709200e+09  57.524806  10.897318  13.343248   0.000000   \n",
       "\n",
       "                   APO  ...       ROC      ROCP      ROCR     ROCR100  \\\n",
       "Date                    ...                                             \n",
       "2016-01-04         NaN  ...       NaN       NaN       NaN         NaN   \n",
       "2016-01-05         NaN  ...       NaN       NaN       NaN         NaN   \n",
       "2016-01-06         NaN  ...       NaN       NaN       NaN         NaN   \n",
       "2016-01-07         NaN  ...       NaN       NaN       NaN         NaN   \n",
       "2016-01-08         NaN  ...       NaN       NaN       NaN         NaN   \n",
       "...                ...  ...       ...       ...       ...         ...   \n",
       "2021-11-15  357.955729  ...  3.059983  0.030600  1.030600  103.059983   \n",
       "2021-11-16  372.630747  ...  0.543187  0.005432  1.005432  100.543187   \n",
       "2021-11-17  393.159868  ...  0.567156  0.005672  1.005672  100.567156   \n",
       "2021-11-18  336.507537  ... -0.656866 -0.006569  0.993431   99.343134   \n",
       "2021-11-19  293.501477  ...  0.453535  0.004535  1.004535  100.453535   \n",
       "\n",
       "                slowk      fastk      TRIX     ULTOSC      WILLR  Target  \n",
       "Date                                                                      \n",
       "2016-01-04        NaN        NaN       NaN        NaN        NaN       0  \n",
       "2016-01-05        NaN        NaN       NaN        NaN        NaN       0  \n",
       "2016-01-06        NaN        NaN       NaN        NaN        NaN       0  \n",
       "2016-01-07        NaN        NaN       NaN        NaN        NaN       0  \n",
       "2016-01-08        NaN        NaN       NaN        NaN        NaN       0  \n",
       "...               ...        ...       ...        ...        ...     ...  \n",
       "2021-11-15  66.522879  89.647116  0.034467  49.140580  -7.398881       1  \n",
       "2021-11-16  84.425284  83.405483  0.035941  49.417832 -10.284253       0  \n",
       "2021-11-17  81.149848  70.396946  0.037510  49.491904 -18.346138       0  \n",
       "2021-11-18  63.762055  37.483737  0.039044  56.947511 -24.380985       1  \n",
       "2021-11-19  56.454724  61.483490  0.040657  60.671533 -23.354579       1  \n",
       "\n",
       "[1438 rows x 33 columns]"
      ],
      "text/html": "<div>\n<style scoped>\n    .dataframe tbody tr th:only-of-type {\n        vertical-align: middle;\n    }\n\n    .dataframe tbody tr th {\n        vertical-align: top;\n    }\n\n    .dataframe thead th {\n        text-align: right;\n    }\n</style>\n<table border=\"1\" class=\"dataframe\">\n  <thead>\n    <tr style=\"text-align: right;\">\n      <th></th>\n      <th>SMA20</th>\n      <th>SMA50</th>\n      <th>SMA200</th>\n      <th>EMA</th>\n      <th>OBV</th>\n      <th>RSI14</th>\n      <th>ADX</th>\n      <th>ADXR</th>\n      <th>aroondown</th>\n      <th>APO</th>\n      <th>...</th>\n      <th>ROC</th>\n      <th>ROCP</th>\n      <th>ROCR</th>\n      <th>ROCR100</th>\n      <th>slowk</th>\n      <th>fastk</th>\n      <th>TRIX</th>\n      <th>ULTOSC</th>\n      <th>WILLR</th>\n      <th>Target</th>\n    </tr>\n    <tr>\n      <th>Date</th>\n      <th></th>\n      <th></th>\n      <th></th>\n      <th></th>\n      <th></th>\n      <th></th>\n      <th></th>\n      <th></th>\n      <th></th>\n      <th></th>\n      <th></th>\n      <th></th>\n      <th></th>\n      <th></th>\n      <th></th>\n      <th></th>\n      <th></th>\n      <th></th>\n      <th></th>\n      <th></th>\n      <th></th>\n    </tr>\n  </thead>\n  <tbody>\n    <tr>\n      <th>2016-01-04</th>\n      <td>NaN</td>\n      <td>NaN</td>\n      <td>NaN</td>\n      <td>NaN</td>\n      <td>1.402000e+08</td>\n      <td>NaN</td>\n      <td>NaN</td>\n      <td>NaN</td>\n      <td>NaN</td>\n      <td>NaN</td>\n      <td>...</td>\n      <td>NaN</td>\n      <td>NaN</td>\n      <td>NaN</td>\n      <td>NaN</td>\n      <td>NaN</td>\n      <td>NaN</td>\n      <td>NaN</td>\n      <td>NaN</td>\n      <td>NaN</td>\n      <td>0</td>\n    </tr>\n    <tr>\n      <th>2016-01-05</th>\n      <td>NaN</td>\n      <td>NaN</td>\n      <td>NaN</td>\n      <td>NaN</td>\n      <td>7.900000e+06</td>\n      <td>NaN</td>\n      <td>NaN</td>\n      <td>NaN</td>\n      <td>NaN</td>\n      <td>NaN</td>\n      <td>...</td>\n      <td>NaN</td>\n      <td>NaN</td>\n      <td>NaN</td>\n      <td>NaN</td>\n      <td>NaN</td>\n      <td>NaN</td>\n      <td>NaN</td>\n      <td>NaN</td>\n      <td>NaN</td>\n      <td>0</td>\n    </tr>\n    <tr>\n      <th>2016-01-06</th>\n      <td>NaN</td>\n      <td>NaN</td>\n      <td>NaN</td>\n      <td>NaN</td>\n      <td>-1.343000e+08</td>\n      <td>NaN</td>\n      <td>NaN</td>\n      <td>NaN</td>\n      <td>NaN</td>\n      <td>NaN</td>\n      <td>...</td>\n      <td>NaN</td>\n      <td>NaN</td>\n      <td>NaN</td>\n      <td>NaN</td>\n      <td>NaN</td>\n      <td>NaN</td>\n      <td>NaN</td>\n      <td>NaN</td>\n      <td>NaN</td>\n      <td>0</td>\n    </tr>\n    <tr>\n      <th>2016-01-07</th>\n      <td>NaN</td>\n      <td>NaN</td>\n      <td>NaN</td>\n      <td>NaN</td>\n      <td>-3.023000e+08</td>\n      <td>NaN</td>\n      <td>NaN</td>\n      <td>NaN</td>\n      <td>NaN</td>\n      <td>NaN</td>\n      <td>...</td>\n      <td>NaN</td>\n      <td>NaN</td>\n      <td>NaN</td>\n      <td>NaN</td>\n      <td>NaN</td>\n      <td>NaN</td>\n      <td>NaN</td>\n      <td>NaN</td>\n      <td>NaN</td>\n      <td>0</td>\n    </tr>\n    <tr>\n      <th>2016-01-08</th>\n      <td>NaN</td>\n      <td>NaN</td>\n      <td>NaN</td>\n      <td>NaN</td>\n      <td>-4.866000e+08</td>\n      <td>NaN</td>\n      <td>NaN</td>\n      <td>NaN</td>\n      <td>NaN</td>\n      <td>NaN</td>\n      <td>...</td>\n      <td>NaN</td>\n      <td>NaN</td>\n      <td>NaN</td>\n      <td>NaN</td>\n      <td>NaN</td>\n      <td>NaN</td>\n      <td>NaN</td>\n      <td>NaN</td>\n      <td>NaN</td>\n      <td>0</td>\n    </tr>\n    <tr>\n      <th>...</th>\n      <td>...</td>\n      <td>...</td>\n      <td>...</td>\n      <td>...</td>\n      <td>...</td>\n      <td>...</td>\n      <td>...</td>\n      <td>...</td>\n      <td>...</td>\n      <td>...</td>\n      <td>...</td>\n      <td>...</td>\n      <td>...</td>\n      <td>...</td>\n      <td>...</td>\n      <td>...</td>\n      <td>...</td>\n      <td>...</td>\n      <td>...</td>\n      <td>...</td>\n      <td>...</td>\n    </tr>\n    <tr>\n      <th>2021-11-15</th>\n      <td>29233.262109</td>\n      <td>29297.366875</td>\n      <td>28901.341738</td>\n      <td>29352.537538</td>\n      <td>5.710900e+09</td>\n      <td>58.851897</td>\n      <td>11.824174</td>\n      <td>15.413168</td>\n      <td>0.000000</td>\n      <td>357.955729</td>\n      <td>...</td>\n      <td>3.059983</td>\n      <td>0.030600</td>\n      <td>1.030600</td>\n      <td>103.059983</td>\n      <td>66.522879</td>\n      <td>89.647116</td>\n      <td>0.034467</td>\n      <td>49.140580</td>\n      <td>-7.398881</td>\n      <td>1</td>\n    </tr>\n    <tr>\n      <th>2021-11-16</th>\n      <td>29272.395020</td>\n      <td>29322.659062</td>\n      <td>28907.225088</td>\n      <td>29413.281752</td>\n      <td>5.772900e+09</td>\n      <td>59.249153</td>\n      <td>11.990726</td>\n      <td>14.860945</td>\n      <td>21.428571</td>\n      <td>372.630747</td>\n      <td>...</td>\n      <td>0.543187</td>\n      <td>0.005432</td>\n      <td>1.005432</td>\n      <td>100.543187</td>\n      <td>84.425284</td>\n      <td>83.405483</td>\n      <td>0.035941</td>\n      <td>49.417832</td>\n      <td>-10.284253</td>\n      <td>0</td>\n    </tr>\n    <tr>\n      <th>2021-11-17</th>\n      <td>29296.035547</td>\n      <td>29333.863477</td>\n      <td>28911.555293</td>\n      <td>29449.954862</td>\n      <td>5.709000e+09</td>\n      <td>56.983099</td>\n      <td>11.979636</td>\n      <td>14.369150</td>\n      <td>14.285714</td>\n      <td>393.159868</td>\n      <td>...</td>\n      <td>0.567156</td>\n      <td>0.005672</td>\n      <td>1.005672</td>\n      <td>100.567156</td>\n      <td>81.149848</td>\n      <td>70.396946</td>\n      <td>0.037510</td>\n      <td>49.491904</td>\n      <td>-18.346138</td>\n      <td>0</td>\n    </tr>\n    <tr>\n      <th>2021-11-18</th>\n      <td>29313.191016</td>\n      <td>29332.638867</td>\n      <td>28916.817695</td>\n      <td>29469.782235</td>\n      <td>5.643600e+09</td>\n      <td>55.278742</td>\n      <td>11.348443</td>\n      <td>13.825177</td>\n      <td>7.142857</td>\n      <td>336.507537</td>\n      <td>...</td>\n      <td>-0.656866</td>\n      <td>-0.006569</td>\n      <td>0.993431</td>\n      <td>99.343134</td>\n      <td>63.762055</td>\n      <td>37.483737</td>\n      <td>0.039044</td>\n      <td>56.947511</td>\n      <td>-24.380985</td>\n      <td>1</td>\n    </tr>\n    <tr>\n      <th>2021-11-19</th>\n      <td>29365.055469</td>\n      <td>29329.233437</td>\n      <td>28922.370986</td>\n      <td>29506.593822</td>\n      <td>5.709200e+09</td>\n      <td>57.524806</td>\n      <td>10.897318</td>\n      <td>13.343248</td>\n      <td>0.000000</td>\n      <td>293.501477</td>\n      <td>...</td>\n      <td>0.453535</td>\n      <td>0.004535</td>\n      <td>1.004535</td>\n      <td>100.453535</td>\n      <td>56.454724</td>\n      <td>61.483490</td>\n      <td>0.040657</td>\n      <td>60.671533</td>\n      <td>-23.354579</td>\n      <td>1</td>\n    </tr>\n  </tbody>\n</table>\n<p>1438 rows × 33 columns</p>\n</div>"
     },
     "metadata": {},
     "execution_count": 791
    }
   ],
   "source": [
    "n225_ti = pd.DataFrame()\n",
    "n225_ti['SMA20'] = talib.SMA(close, timeperiod=20)\n",
    "n225_ti['SMA50'] = talib.SMA(close, timeperiod=50)\n",
    "n225_ti['SMA200'] = talib.SMA(close, timeperiod=200)\n",
    "n225_ti['EMA'] = talib.EMA(close, timeperiod=14)\n",
    "n225_ti['OBV'] = talib.OBV(close, volume)\n",
    "n225_ti['RSI14'] = talib.RSI(close, timeperiod=14)\n",
    "n225_ti['ADX'] = talib.ADX(high, low, close, timeperiod=14)\n",
    "n225_ti['ADXR'] = talib.ADXR(high, low, close, timeperiod=14)\n",
    "n225_ti['aroondown'], ti['aroonup'] = talib.AROON(high, low, timeperiod=14)\n",
    "n225_ti['APO'] = talib.APO(close, fastperiod=12, slowperiod=26, matype=0)\n",
    "n225_ti['AROONOSC'] = talib.AROONOSC(high, low, timeperiod=14)\n",
    "n225_ti['BOP'] = talib.BOP(open, high, low, close)\n",
    "n225_ti['CCI'] = talib.CCI(high, low, close, timeperiod=14)\n",
    "n225_ti['CMO'] = talib.CMO(close, timeperiod=14)\n",
    "n225_ti['DX'] = talib.DX(high, low, close, timeperiod=14)\n",
    "n225_ti['macd'],ti['macdsignal'],ti['macdhist'] = talib.MACD(close, fastperiod = 12, slowperiod=26, signalperiod=9)\n",
    "n225_ti['MFI'] = talib.MFI(high, low, close, volume, timeperiod=14)\n",
    "n225_ti['MINUS_DI'] = talib.MINUS_DI(high, low, close, timeperiod=14)\n",
    "n225_ti['MINUS_DM'] = talib.MINUS_DM(high, low, timeperiod=14)\n",
    "n225_ti['MOM'] = talib.MOM(close, timeperiod=14)\n",
    "n225_ti['PLUS_DI'] = talib.PLUS_DI(high, low, close, timeperiod=14)\n",
    "n225_ti['PLUS_DM'] = talib.PLUS_DM(high, low, timeperiod=14)\n",
    "n225_ti['PPO'] = talib.PPO(close, fastperiod=12, slowperiod=26, matype=0)\n",
    "n225_ti['ROC'] = talib.ROC(close, timeperiod=10)\n",
    "n225_ti['ROCP'] = talib.ROCP(close, timeperiod=10)\n",
    "n225_ti['ROCR'] = talib.ROCR(close, timeperiod=10)\n",
    "n225_ti['ROCR100'] = talib.ROCR100(close, timeperiod=10)\n",
    "n225_ti['slowk'], ti['slowd'] = talib.STOCH(high, low, close, fastk_period=5, slowk_period=3, slowd_period=3, slowd_matype=0)\n",
    "n225_ti['fastk'], ti['fastd'] = talib.STOCHF(high, low, close, fastk_period=5, fastd_period=3, fastd_matype=0)\n",
    "n225_ti['TRIX'] = talib.TRIX(close, timeperiod=30)\n",
    "n225_ti['ULTOSC'] = talib.ULTOSC(high, low, close, timeperiod1=7, timeperiod2=14, timeperiod3=28)\n",
    "n225_ti['WILLR'] = talib.WILLR(high, low, close, timeperiod=14)\n",
    "n225_ti['Target'] = n225['Target']\n",
    "n225_ti"
   ]
  },
  {
   "cell_type": "code",
   "execution_count": 793,
   "metadata": {},
   "outputs": [],
   "source": [
    "n225_ti = n225_ti.dropna()\n",
    "X = n225_ti.drop(\"Target\", axis=1)  # Feature Matrix\n",
    "y = n225_ti[\"Target\"]               # Target Variable"
   ]
  },
  {
   "cell_type": "code",
   "execution_count": 794,
   "metadata": {},
   "outputs": [
    {
     "output_type": "stream",
     "name": "stdout",
     "text": [
      "[False False False False False False False  True False False False  True\n False  True False False False  True False False False False False  True\n False False False False False  True  True False]\n[17 19 25 16 26  7  2  1 11 12 14  1 13  1  8 15 18  1 24 22  5 23  3  1\n 20 21  6 10  9  1  1  4]\n"
     ]
    }
   ],
   "source": [
    "model = LinearRegression()\n",
    "\n",
    "#Initializing RFE model\n",
    "rfe = RFE(model, n_features_to_select=7)\n",
    "\n",
    "#Transforming data using RFE\n",
    "X_rfe = rfe.fit_transform(X,y)  \n",
    "\n",
    "#Fitting the data to model\n",
    "model.fit(X_rfe,y)\n",
    "\n",
    "print(rfe.support_)\n",
    "print(rfe.ranking_)"
   ]
  },
  {
   "cell_type": "code",
   "execution_count": 795,
   "metadata": {},
   "outputs": [
    {
     "output_type": "stream",
     "name": "stdout",
     "text": [
      "Optimum number of features: 0\nScore with 0 features: 0.000000\n"
     ]
    }
   ],
   "source": [
    "# no. of features\n",
    "#\n",
    "nof_list = np.arange(1, 13)            \n",
    "high_score = 0\n",
    "\n",
    "# Variable to store the optimum features\n",
    "#\n",
    "nof = 0           \n",
    "score_list = []\n",
    "\n",
    "for n in range(len(nof_list)):\n",
    "    X_train, X_test, y_train, y_test = train_test_split(X,y, test_size = 0.9, random_state = 0)\n",
    "\n",
    "    model = LinearRegression()\n",
    "    rfe = RFE(model, n_features_to_select=nof_list[n])\n",
    "    X_train_rfe = rfe.fit_transform(X_train,y_train)\n",
    "    X_test_rfe = rfe.transform(X_test)\n",
    "    model.fit(X_train_rfe,y_train)\n",
    "\n",
    "    score = model.score(X_test_rfe,y_test)\n",
    "    score_list.append(score)\n",
    "\n",
    "    if(score > high_score):\n",
    "        high_score = score\n",
    "        nof = nof_list[n]\n",
    "\n",
    "print(\"Optimum number of features: %d\" % nof)\n",
    "print(\"Score with %d features: %f\" % (nof, high_score))"
   ]
  },
  {
   "cell_type": "code",
   "execution_count": 796,
   "metadata": {},
   "outputs": [
    {
     "output_type": "stream",
     "name": "stdout",
     "text": [
      "Index(['ADX', 'ADXR', 'BOP', 'CMO', 'MINUS_DI', 'PPO', 'ROC', 'TRIX', 'ULTOSC',\n       'WILLR'],\n      dtype='object')\n"
     ]
    }
   ],
   "source": [
    "cols = list(X.columns)\n",
    "model = LinearRegression()\n",
    "\n",
    "# Initializing RFE model\n",
    "rfe = RFE(model, n_features_to_select=10)             \n",
    "\n",
    "# Transforming data using RFE\n",
    "X_rfe = rfe.fit_transform(X,y)  \n",
    "\n",
    "# Fitting the data to model\n",
    "model.fit(X_rfe,y)              \n",
    "temp = pd.Series(rfe.support_, index = cols)\n",
    "selected_features_rfe = temp[temp==True].index\n",
    "\n",
    "print(selected_features_rfe)"
   ]
  },
  {
   "source": [
    "<h2>จากการทำ Feature Selection ควรจะใช้ 'ADX', 'ADXR', 'BOP', 'CMO', 'MINUS_DI', 'PPO', 'ROC', 'TRIX', 'ULTOSC',\n",
    "       'WILLR' ในการสร้าง model</h2>"
   ],
   "cell_type": "markdown",
   "metadata": {}
  },
  {
   "source": [],
   "cell_type": "markdown",
   "metadata": {}
  },
  {
   "source": [
    "<h2>Decision Tree</h2>"
   ],
   "cell_type": "markdown",
   "metadata": {}
  },
  {
   "cell_type": "code",
   "execution_count": null,
   "metadata": {},
   "outputs": [],
   "source": []
  },
  {
   "source": [
    "<h2>Random Forest</h2>"
   ],
   "cell_type": "markdown",
   "metadata": {}
  },
  {
   "cell_type": "code",
   "execution_count": null,
   "metadata": {},
   "outputs": [],
   "source": []
  },
  {
   "source": [
    "<h2>Logistic Regression</h2>"
   ],
   "cell_type": "markdown",
   "metadata": {}
  },
  {
   "cell_type": "code",
   "execution_count": null,
   "metadata": {},
   "outputs": [],
   "source": []
  },
  {
   "source": [
    "<h2>XGBoost</h2>"
   ],
   "cell_type": "markdown",
   "metadata": {}
  },
  {
   "cell_type": "code",
   "execution_count": null,
   "metadata": {},
   "outputs": [],
   "source": []
  },
  {
   "source": [
    "<h2>Linear Regress</h2>"
   ],
   "cell_type": "markdown",
   "metadata": {}
  },
  {
   "cell_type": "code",
   "execution_count": null,
   "metadata": {},
   "outputs": [],
   "source": []
  },
  {
   "source": [
    "<h2>Cauccian Process Regression</h2>"
   ],
   "cell_type": "markdown",
   "metadata": {}
  },
  {
   "cell_type": "code",
   "execution_count": null,
   "metadata": {},
   "outputs": [],
   "source": []
  },
  {
   "source": [
    "<h1>Heng Seng Index</h1>"
   ],
   "cell_type": "markdown",
   "metadata": {}
  },
  {
   "source": [
    "<h2>Feature Selection</h2>"
   ],
   "cell_type": "markdown",
   "metadata": {}
  },
  {
   "cell_type": "code",
   "execution_count": null,
   "metadata": {},
   "outputs": [],
   "source": []
  },
  {
   "source": [
    "<h2>Decision Tree</h2>"
   ],
   "cell_type": "markdown",
   "metadata": {}
  },
  {
   "cell_type": "code",
   "execution_count": null,
   "metadata": {},
   "outputs": [],
   "source": []
  },
  {
   "source": [
    "<h2>Random Forest</h2>"
   ],
   "cell_type": "markdown",
   "metadata": {}
  },
  {
   "cell_type": "code",
   "execution_count": null,
   "metadata": {},
   "outputs": [],
   "source": []
  },
  {
   "source": [
    "<h2>Logistic Regression</h2>"
   ],
   "cell_type": "markdown",
   "metadata": {}
  },
  {
   "cell_type": "code",
   "execution_count": null,
   "metadata": {},
   "outputs": [],
   "source": []
  },
  {
   "source": [
    "<h2>XGBoost</h2>"
   ],
   "cell_type": "markdown",
   "metadata": {}
  },
  {
   "cell_type": "code",
   "execution_count": null,
   "metadata": {},
   "outputs": [],
   "source": []
  },
  {
   "source": [
    "<h2>Linear Regression</h2>"
   ],
   "cell_type": "markdown",
   "metadata": {}
  },
  {
   "cell_type": "code",
   "execution_count": null,
   "metadata": {},
   "outputs": [],
   "source": []
  },
  {
   "source": [
    "<h2>Gauccian Process Regression</h2>"
   ],
   "cell_type": "markdown",
   "metadata": {}
  },
  {
   "cell_type": "code",
   "execution_count": null,
   "metadata": {},
   "outputs": [],
   "source": []
  },
  {
   "source": [
    "<h1>SSE Composite Index</h1>"
   ],
   "cell_type": "markdown",
   "metadata": {}
  },
  {
   "source": [
    "<h2>Feature Selection</h2>"
   ],
   "cell_type": "markdown",
   "metadata": {}
  },
  {
   "cell_type": "code",
   "execution_count": null,
   "metadata": {},
   "outputs": [],
   "source": []
  },
  {
   "source": [
    "<h2>Decision Tree</h2>"
   ],
   "cell_type": "markdown",
   "metadata": {}
  },
  {
   "cell_type": "code",
   "execution_count": null,
   "metadata": {},
   "outputs": [],
   "source": []
  },
  {
   "source": [
    "<h2>Random Forest</h2>"
   ],
   "cell_type": "markdown",
   "metadata": {}
  },
  {
   "cell_type": "code",
   "execution_count": null,
   "metadata": {},
   "outputs": [],
   "source": []
  },
  {
   "source": [
    "<h2>Logistic Regression</h2>"
   ],
   "cell_type": "markdown",
   "metadata": {}
  },
  {
   "cell_type": "code",
   "execution_count": null,
   "metadata": {},
   "outputs": [],
   "source": []
  },
  {
   "source": [
    "<h2>XGBoost</h2>"
   ],
   "cell_type": "markdown",
   "metadata": {}
  },
  {
   "cell_type": "code",
   "execution_count": null,
   "metadata": {},
   "outputs": [],
   "source": []
  },
  {
   "source": [
    "<h2>Linear Regression</h2>"
   ],
   "cell_type": "markdown",
   "metadata": {}
  },
  {
   "cell_type": "code",
   "execution_count": null,
   "metadata": {},
   "outputs": [],
   "source": []
  },
  {
   "source": [
    "<h2>Cauccian Process Regression</h2>"
   ],
   "cell_type": "markdown",
   "metadata": {}
  },
  {
   "cell_type": "code",
   "execution_count": null,
   "metadata": {},
   "outputs": [],
   "source": []
  }
 ],
 "metadata": {
  "kernelspec": {
   "name": "python3",
   "display_name": "Python 3.9.7 64-bit",
   "metadata": {
    "interpreter": {
     "hash": "ac2eaa0ea0ebeafcc7822e65e46aa9d4f966f30b695406963e145ea4a91cd4fc"
    }
   }
  },
  "language_info": {
   "codemirror_mode": {
    "name": "ipython",
    "version": 3
   },
   "file_extension": ".py",
   "mimetype": "text/x-python",
   "name": "python",
   "nbconvert_exporter": "python",
   "pygments_lexer": "ipython3",
   "version": "3.9.7-final"
  }
 },
 "nbformat": 4,
 "nbformat_minor": 5
}